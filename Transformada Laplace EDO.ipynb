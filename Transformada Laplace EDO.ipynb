{
  "cells": [
    {
      "cell_type": "code",
      "execution_count": 13,
      "metadata": {
        "id": "oH6u-08LtE1C"
      },
      "outputs": [],
      "source": [
        "# importando modulos necesarios\n",
        "%matplotlib inline\n",
        "\n",
        "import matplotlib.pyplot as plt\n",
        "import numpy as np\n",
        "import sympy\n",
        "from scipy import integrate\n",
        "\n",
        "# imprimir con notación matemática.\n",
        "sympy.init_printing(use_latex='mathjax')"
      ]
    },
    {
      "cell_type": "code",
      "execution_count": 17,
      "metadata": {
        "colab": {
          "base_uri": "https://localhost:8080/",
          "height": 54
        },
        "id": "iaOZIazbtE1E",
        "outputId": "400e1458-4527-4d6f-8b59-3c600b1d3346"
      },
      "outputs": [
        {
          "output_type": "execute_result",
          "data": {
            "text/plain": [
              "                                          2           \n",
              "                              d          d            \n",
              "200⋅y(t) - 150⋅sin(10⋅t) + 20⋅──(y(t)) + ───(y(t)) = 0\n",
              "                              dt           2          \n",
              "                                         dt           "
            ],
            "text/latex": "$\\displaystyle 200 y{\\left(t \\right)} - 150 \\sin{\\left(10 t \\right)} + 20 \\frac{d}{d t} y{\\left(t \\right)} + \\frac{d^{2}}{d t^{2}} y{\\left(t \\right)} = 0$"
          },
          "metadata": {},
          "execution_count": 17
        }
      ],
      "source": [
        "# Ejemplo de transformada de Laplace\n",
        "# Defino las incognitas\n",
        "t = sympy.symbols(\"t\", positive=True)\n",
        "y = sympy.Function(\"y\")\n",
        "\n",
        "# Defino la ecuación\n",
        "edo =1*y(t).diff(t,t) + 20*y(t).diff(t) + (200)*y(t)-150*sympy.sin(10*t)\n",
        "sympy.Eq(edo, 0)"
      ]
    },
    {
      "cell_type": "code",
      "execution_count": 15,
      "metadata": {
        "id": "vyaOpe5xtE1E"
      },
      "outputs": [],
      "source": [
        "# simbolos adicionales.\n",
        "s, Y = sympy.symbols(\"s, Y\", real=True)"
      ]
    },
    {
      "cell_type": "code",
      "execution_count": 32,
      "metadata": {
        "colab": {
          "base_uri": "https://localhost:8080/",
          "height": 176
        },
        "id": "TSrRTX5itE1F",
        "outputId": "6864e38d-4b52-490c-e4a6-cab47c67d7eb"
      },
      "outputs": [
        {
          "output_type": "error",
          "ename": "TypeError",
          "evalue": "Equality.__new__() missing 1 required positional argument: 'rhs'",
          "traceback": [
            "\u001b[0;31m---------------------------------------------------------------------------\u001b[0m",
            "\u001b[0;31mTypeError\u001b[0m                                 Traceback (most recent call last)",
            "\u001b[0;32m/tmp/ipython-input-1269432917.py\u001b[0m in \u001b[0;36m<cell line: 0>\u001b[0;34m()\u001b[0m\n\u001b[1;32m      1\u001b[0m \u001b[0;31m# Calculo la transformada de Laplace\u001b[0m\u001b[0;34m\u001b[0m\u001b[0;34m\u001b[0m\u001b[0m\n\u001b[1;32m      2\u001b[0m \u001b[0mL_edo\u001b[0m \u001b[0;34m=\u001b[0m \u001b[0msympy\u001b[0m\u001b[0;34m.\u001b[0m\u001b[0mlaplace_transform\u001b[0m\u001b[0;34m(\u001b[0m\u001b[0medo\u001b[0m\u001b[0;34m,\u001b[0m \u001b[0mt\u001b[0m\u001b[0;34m,\u001b[0m \u001b[0ms\u001b[0m\u001b[0;34m,\u001b[0m \u001b[0mnoconds\u001b[0m\u001b[0;34m=\u001b[0m\u001b[0;32mTrue\u001b[0m\u001b[0;34m)\u001b[0m\u001b[0;34m\u001b[0m\u001b[0;34m\u001b[0m\u001b[0m\n\u001b[0;32m----> 3\u001b[0;31m \u001b[0msympy\u001b[0m\u001b[0;34m.\u001b[0m\u001b[0mEq\u001b[0m\u001b[0;34m(\u001b[0m\u001b[0mL_edo\u001b[0m\u001b[0;34m)\u001b[0m\u001b[0;34m\u001b[0m\u001b[0;34m\u001b[0m\u001b[0m\n\u001b[0m",
            "\u001b[0;31mTypeError\u001b[0m: Equality.__new__() missing 1 required positional argument: 'rhs'"
          ]
        }
      ],
      "source": [
        "# Calculo la transformada de Laplace\n",
        "L_edo = sympy.laplace_transform(edo, t, s, noconds=True)\n",
        "sympy.Eq(L_edo)"
      ]
    },
    {
      "cell_type": "code",
      "execution_count": 4,
      "metadata": {
        "id": "VkOM4w31tE1F"
      },
      "outputs": [],
      "source": [
        "def laplace_transform_derivatives(e):\n",
        "    \"\"\"\n",
        "    Evalua las transformadas de Laplace de derivadas de funciones sin evaluar.\n",
        "    \"\"\"\n",
        "    if isinstance(e, sympy.LaplaceTransform):\n",
        "        if isinstance(e.args[0], sympy.Derivative):\n",
        "            d, t, s = e.args\n",
        "            n = len(d.args) - 1\n",
        "            return ((s**n) * sympy.LaplaceTransform(d.args[0], t, s) -\n",
        "                    sum([s**(n-i) * sympy.diff(d.args[0], t, i-1).subs(t, 0)\n",
        "                         for i in range(1, n+1)]))\n",
        "\n",
        "    if isinstance(e, (sympy.Add, sympy.Mul)):\n",
        "        t = type(e)\n",
        "        return t(*[laplace_transform_derivatives(arg) for arg in e.args])\n",
        "\n",
        "    return e"
      ]
    },
    {
      "cell_type": "code",
      "execution_count": 21,
      "metadata": {
        "colab": {
          "base_uri": "https://localhost:8080/",
          "height": 60
        },
        "id": "uiGkaa0AtE1F",
        "outputId": "495265db-3524-4193-9938-69c6957fad40"
      },
      "outputs": [
        {
          "output_type": "execute_result",
          "data": {
            "text/plain": [
              " 2                                                                             ↪\n",
              "s ⋅LaplaceTransform(y(t), t, s) + 20⋅s⋅LaplaceTransform(y(t), t, s) - s⋅y(0) + ↪\n",
              "                                                                               ↪\n",
              "                                                                               ↪\n",
              "\n",
              "↪                                               ⎛d       ⎞│        1500      \n",
              "↪  200⋅LaplaceTransform(y(t), t, s) - 20⋅y(0) - ⎜──(y(t))⎟│    - ──────── = 0\n",
              "↪                                               ⎝dt      ⎠│t=0    2          \n",
              "↪                                                                s  + 100    "
            ],
            "text/latex": "$\\displaystyle s^{2} \\mathcal{L}_{t}\\left[y{\\left(t \\right)}\\right]\\left(s\\right) + 20 s \\mathcal{L}_{t}\\left[y{\\left(t \\right)}\\right]\\left(s\\right) - s y{\\left(0 \\right)} + 200 \\mathcal{L}_{t}\\left[y{\\left(t \\right)}\\right]\\left(s\\right) - 20 y{\\left(0 \\right)} - \\left. \\frac{d}{d t} y{\\left(t \\right)} \\right|_{\\substack{ t=0 }} - \\frac{1500}{s^{2} + 100} = 0$"
          },
          "metadata": {},
          "execution_count": 21
        }
      ],
      "source": [
        "# Aplicamos la nueva funcion para evaluar las transformadas de Laplace\n",
        "# de derivadas\n",
        "L_edo_2 = laplace_transform_derivatives(L_edo)\n",
        "sympy.Eq(L_edo_2, 0)"
      ]
    },
    {
      "cell_type": "code",
      "execution_count": 22,
      "metadata": {
        "colab": {
          "base_uri": "https://localhost:8080/",
          "height": 60
        },
        "id": "VltHr7jAtE1F",
        "outputId": "4a7dd2fc-c8bc-4f5f-bea4-5520e4fd9344"
      },
      "outputs": [
        {
          "output_type": "execute_result",
          "data": {
            "text/plain": [
              " 2                                                                             ↪\n",
              "s ⋅LaplaceTransform(y(t), t, s) + 20⋅s⋅LaplaceTransform(y(t), t, s) - s⋅y(0) + ↪\n",
              "                                                                               ↪\n",
              "                                                                               ↪\n",
              "\n",
              "↪                                               ⎛d       ⎞│        1500      \n",
              "↪  200⋅LaplaceTransform(y(t), t, s) - 20⋅y(0) - ⎜──(y(t))⎟│    - ──────── = 0\n",
              "↪                                               ⎝dt      ⎠│t=0    2          \n",
              "↪                                                                s  + 100    "
            ],
            "text/latex": "$\\displaystyle s^{2} \\mathcal{L}_{t}\\left[y{\\left(t \\right)}\\right]\\left(s\\right) + 20 s \\mathcal{L}_{t}\\left[y{\\left(t \\right)}\\right]\\left(s\\right) - s y{\\left(0 \\right)} + 200 \\mathcal{L}_{t}\\left[y{\\left(t \\right)}\\right]\\left(s\\right) - 20 y{\\left(0 \\right)} - \\left. \\frac{d}{d t} y{\\left(t \\right)} \\right|_{\\substack{ t=0 }} - \\frac{1500}{s^{2} + 100} = 0$"
          },
          "metadata": {},
          "execution_count": 22
        }
      ],
      "source": [
        "# reemplazamos la transfomada de Laplace de y(t) por la incognita Y\n",
        "# para facilitar la lectura de la ecuación.\n",
        "L_edo_3 = L_edo_2.subs(sympy.laplace_transform(y(t), t, s), Y)\n",
        "sympy.Eq(L_edo_3, 0)"
      ]
    },
    {
      "cell_type": "code",
      "execution_count": 8,
      "metadata": {
        "colab": {
          "base_uri": "https://localhost:8080/",
          "height": 68
        },
        "id": "gRN7ssYstE1F",
        "outputId": "a7a94f78-bea5-4d4f-981a-717be1640085"
      },
      "outputs": [
        {
          "output_type": "execute_result",
          "data": {
            "text/plain": [
              "⎧         ⎛d       ⎞│       ⎫\n",
              "⎨y(0): 0, ⎜──(y(t))⎟│   : -3⎬\n",
              "⎩         ⎝dt      ⎠│t=0    ⎭"
            ],
            "text/latex": "$\\displaystyle \\left\\{ y{\\left(0 \\right)} : 0, \\  \\left. \\frac{d}{d t} y{\\left(t \\right)} \\right|_{\\substack{ t=0 }} : -3\\right\\}$"
          },
          "metadata": {},
          "execution_count": 8
        }
      ],
      "source": [
        "# Definimos las condiciones iniciales\n",
        "ics = {y(0): 0, y(t).diff(t).subs(t, 0): -3}\n",
        "ics"
      ]
    },
    {
      "cell_type": "code",
      "execution_count": 23,
      "metadata": {
        "colab": {
          "base_uri": "https://localhost:8080/",
          "height": 52
        },
        "id": "tlDqVu8btE1G",
        "outputId": "75c91b2a-ea8f-48c0-c160-9b97740c2860"
      },
      "outputs": [
        {
          "output_type": "execute_result",
          "data": {
            "text/plain": [
              " 2                                                                             ↪\n",
              "s ⋅LaplaceTransform(y(t), t, s) + 20⋅s⋅LaplaceTransform(y(t), t, s) + 200⋅Lapl ↪\n",
              "                                                                               ↪\n",
              "                                                                               ↪\n",
              "\n",
              "↪                                  1500      \n",
              "↪ aceTransform(y(t), t, s) + 3 - ──────── = 0\n",
              "↪                                 2          \n",
              "↪                                s  + 100    "
            ],
            "text/latex": "$\\displaystyle s^{2} \\mathcal{L}_{t}\\left[y{\\left(t \\right)}\\right]\\left(s\\right) + 20 s \\mathcal{L}_{t}\\left[y{\\left(t \\right)}\\right]\\left(s\\right) + 200 \\mathcal{L}_{t}\\left[y{\\left(t \\right)}\\right]\\left(s\\right) + 3 - \\frac{1500}{s^{2} + 100} = 0$"
          },
          "metadata": {},
          "execution_count": 23
        }
      ],
      "source": [
        "# Aplicamos las condiciones iniciales\n",
        "L_edo_4 = L_edo_3.subs(ics)\n",
        "sympy.Eq(L_edo_4, 0)"
      ]
    },
    {
      "cell_type": "code",
      "execution_count": 28,
      "metadata": {
        "colab": {
          "base_uri": "https://localhost:8080/",
          "height": 125
        },
        "id": "YjKw6VsUtE1G",
        "outputId": "e1895d11-2e25-4021-8402-e1794d7c1725"
      },
      "outputs": [
        {
          "output_type": "stream",
          "name": "stdout",
          "text": [
            "Equation to solve:\n"
          ]
        },
        {
          "output_type": "display_data",
          "data": {
            "text/plain": [
              " 2                                                                             ↪\n",
              "s ⋅LaplaceTransform(y(t), t, s) + 20⋅s⋅LaplaceTransform(y(t), t, s) + 200⋅Lapl ↪\n",
              "                                                                               ↪\n",
              "                                                                               ↪\n",
              "\n",
              "↪                                  1500      \n",
              "↪ aceTransform(y(t), t, s) + 3 - ──────── = 0\n",
              "↪                                 2          \n",
              "↪                                s  + 100    "
            ],
            "text/latex": "$\\displaystyle s^{2} \\mathcal{L}_{t}\\left[y{\\left(t \\right)}\\right]\\left(s\\right) + 20 s \\mathcal{L}_{t}\\left[y{\\left(t \\right)}\\right]\\left(s\\right) + 200 \\mathcal{L}_{t}\\left[y{\\left(t \\right)}\\right]\\left(s\\right) + 3 - \\frac{1500}{s^{2} + 100} = 0$"
          },
          "metadata": {}
        },
        {
          "output_type": "stream",
          "name": "stdout",
          "text": [
            "Solution for Y_sol:\n"
          ]
        },
        {
          "output_type": "display_data",
          "data": {
            "text/plain": [
              "[]"
            ],
            "text/latex": "$\\displaystyle \\left[ \\right]$"
          },
          "metadata": {}
        },
        {
          "output_type": "stream",
          "name": "stdout",
          "text": [
            "No solution found for Y.\n"
          ]
        }
      ],
      "source": [
        "# Resolvemos la ecuación y arribamos a la Transformada de Laplace\n",
        "# que es equivalente a nuestra ecuación diferencial\n",
        "print(\"Equation to solve:\")\n",
        "display(sympy.Eq(L_edo_4, 0))\n",
        "Y_sol = sympy.solve(L_edo_4, Y)\n",
        "print(\"Solution for Y_sol:\")\n",
        "display(Y_sol)\n",
        "if Y_sol:\n",
        "    sympy.Eq(Y, Y_sol[0])\n",
        "else:\n",
        "    print(\"No solution found for Y.\")"
      ]
    },
    {
      "cell_type": "code",
      "execution_count": 29,
      "metadata": {
        "colab": {
          "base_uri": "https://localhost:8080/"
        },
        "id": "nxBFIQDetE1G",
        "outputId": "7be63dcf-03ad-4949-c598-bc55b385467a"
      },
      "outputs": [
        {
          "output_type": "stream",
          "name": "stdout",
          "text": [
            "Cannot compute inverse Laplace transform without a solution for Y.\n"
          ]
        }
      ],
      "source": [
        "# Por último, calculamos al inversa de la Transformada de Laplace que\n",
        "# obtuvimos arriba, para obtener la solución de nuestra ecuación diferencial.\n",
        "if Y_sol:\n",
        "    y_sol = sympy.inverse_laplace_transform(Y_sol[0], s, t)\n",
        "    print(\"Solution for y(t):\")\n",
        "    sympy.Eq(y(t), y_sol)\n",
        "else:\n",
        "    print(\"Cannot compute inverse Laplace transform without a solution for Y.\")\n",
        "    y_sol = None # Set y_sol to None to avoid NameError in the next cell"
      ]
    },
    {
      "cell_type": "code",
      "execution_count": 30,
      "metadata": {
        "colab": {
          "base_uri": "https://localhost:8080/"
        },
        "id": "WPjVQsu6tE1G",
        "outputId": "9966922c-45db-4a89-b475-5c466045d916"
      },
      "outputs": [
        {
          "output_type": "stream",
          "name": "stdout",
          "text": [
            "Cannot check solution as y_sol was not computed.\n"
          ]
        }
      ],
      "source": [
        "# Comprobamos la solución.\n",
        "if y_sol is not None:\n",
        "    print(\"Checking the solution with initial conditions:\")\n",
        "    sympy.Eq((y_sol.subs(t, 0), sympy.diff(y_sol).subs(t, 0)), (ics[y(0)], ics[y(t).diff(t).subs(t, 0)]))\n",
        "else:\n",
        "    print(\"Cannot check solution as y_sol was not computed.\")"
      ]
    },
    {
      "cell_type": "code",
      "execution_count": null,
      "metadata": {
        "id": "5unsFrfvtE1G"
      },
      "outputs": [],
      "source": []
    },
    {
      "cell_type": "markdown",
      "source": [
        "Actividad 1"
      ],
      "metadata": {
        "id": "B8qv19tbvcBE"
      }
    },
    {
      "cell_type": "code",
      "source": [
        "# Importar la biblioteca necesaria\n",
        "import sympy as sp\n",
        "from sympy import latex\n",
        "\n",
        "# Definir la variable\n",
        "s = sp.symbols('s')\n",
        "\n",
        "# Definir K como una constante\n",
        "K = sp.symbols('K')\n",
        "\n",
        "# Resultado de L{K}\n",
        "L_K = K / s\n",
        "\n",
        "# Create a function symbol for Laplace transform for display\n",
        "L_sym = sp.Function('L')\n",
        "\n",
        "# Imprimir la ecuación y el resultado en formato LaTeX\n",
        "display(sp.Eq(L_sym(K), L_K))"
      ],
      "metadata": {
        "colab": {
          "base_uri": "https://localhost:8080/",
          "height": 52
        },
        "id": "6IgqGpgpvf-R",
        "outputId": "0372e5d0-dc09-484e-834b-e5a8b3a7c37d"
      },
      "execution_count": 45,
      "outputs": [
        {
          "output_type": "display_data",
          "data": {
            "text/plain": [
              "       K\n",
              "L(K) = ─\n",
              "       s"
            ],
            "text/latex": "$\\displaystyle L{\\left(K \\right)} = \\frac{K}{s}$"
          },
          "metadata": {}
        }
      ]
    },
    {
      "cell_type": "markdown",
      "source": [
        "Actividad 2"
      ],
      "metadata": {
        "id": "LXkYhnp44dvb"
      }
    },
    {
      "cell_type": "code",
      "source": [
        "# Definir la variable t\n",
        "t = sp.symbols('t')\n",
        "s = sp.symbols('s') # Ensure s is defined here as well\n",
        "\n",
        "# Resultado de L{t}\n",
        "S_t = sp.laplace_transform(t, t, s)[0]  # Esto es 1/s^2\n",
        "\n",
        "# Create a function symbol for Laplace transform for display\n",
        "L_sym = sp.Function('L')\n",
        "\n",
        "# Imprimir la ecuación y el resultado en formato LaTeX\n",
        "display(sp.Eq(L_sym(t), S_t))"
      ],
      "metadata": {
        "colab": {
          "base_uri": "https://localhost:8080/",
          "height": 51
        },
        "id": "iHUFp0_r4fpI",
        "outputId": "3de44c89-87ad-41d2-c438-1bd4ffcce24d"
      },
      "execution_count": 48,
      "outputs": [
        {
          "output_type": "display_data",
          "data": {
            "text/plain": [
              "       1 \n",
              "L(t) = ──\n",
              "        2\n",
              "       s "
            ],
            "text/latex": "$\\displaystyle L{\\left(t \\right)} = \\frac{1}{s^{2}}$"
          },
          "metadata": {}
        }
      ]
    },
    {
      "cell_type": "markdown",
      "source": [
        "Actividad 3"
      ],
      "metadata": {
        "id": "Cp73whJ45sGV"
      }
    },
    {
      "cell_type": "code",
      "source": [
        "# Importar la biblioteca necesaria\n",
        "import sympy as sp\n",
        "from sympy import latex\n",
        "from IPython.display import display\n",
        "\n",
        "# Definir la variable\n",
        "t, s = sp.symbols('t s')\n",
        "\n",
        "# Definir la función\n",
        "f1 = sp.exp(-3 * t)\n",
        "\n",
        "# Resultado de L{e^{3t}}\n",
        "L_e3t = sp.laplace_transform(f1, t, s)[0]  # Esto es 1/(s - 3)\n",
        "\n",
        "# Imprimir la ecuación y el resultado en formato LaTeX\n",
        "display(sp.Eq(sp.Function('L')(f1), L_e3t))"
      ],
      "metadata": {
        "colab": {
          "base_uri": "https://localhost:8080/",
          "height": 52
        },
        "id": "JCCTzcvf5ui8",
        "outputId": "e5e42ef9-8589-4821-8e21-ddb95ca73fd6"
      },
      "execution_count": 52,
      "outputs": [
        {
          "output_type": "display_data",
          "data": {
            "text/plain": [
              " ⎛ -3⋅t⎞     1  \n",
              "L⎝ℯ    ⎠ = ─────\n",
              "           s + 3"
            ],
            "text/latex": "$\\displaystyle L{\\left(e^{- 3 t} \\right)} = \\frac{1}{s + 3}$"
          },
          "metadata": {}
        }
      ]
    },
    {
      "cell_type": "markdown",
      "source": [
        "Actividad 4"
      ],
      "metadata": {
        "id": "p-BU0MaZ6SlC"
      }
    },
    {
      "cell_type": "code",
      "source": [
        "# Definir alpha como una variable\n",
        "alpha = sp.symbols('alpha')\n",
        "\n",
        "# Definir la función\n",
        "f2 = sp.exp(alpha * t)\n",
        "\n",
        "# Resultado de L{e^{alpha t}}\n",
        "L_ealpha_t = sp.laplace_transform(f2, t, - s)[0]  # Esto es 1/(s - alpha)\n",
        "\n",
        "# Imprimir la ecuación y el resultado en formato LaTeX\n",
        "display(sp.Eq(sp.Function('L')(f2), L_ealpha_t))"
      ],
      "metadata": {
        "colab": {
          "base_uri": "https://localhost:8080/",
          "height": 52
        },
        "id": "X0DD81vT6UY7",
        "outputId": "96b9206b-5cd1-4249-c8ce-3da743e6524b"
      },
      "execution_count": 59,
      "outputs": [
        {
          "output_type": "display_data",
          "data": {
            "text/plain": [
              " ⎛ α⋅t⎞     1   \n",
              "L⎝ℯ   ⎠ = ──────\n",
              "          -α - s"
            ],
            "text/latex": "$\\displaystyle L{\\left(e^{\\alpha t} \\right)} = \\frac{1}{- \\alpha - s}$"
          },
          "metadata": {}
        }
      ]
    },
    {
      "cell_type": "markdown",
      "source": [
        "Actividad 5"
      ],
      "metadata": {
        "id": "jnpoCBxD73Y0"
      }
    },
    {
      "cell_type": "code",
      "source": [
        "# Importar la biblioteca necesaria\n",
        "import sympy as sp\n",
        "from IPython.display import display\n",
        "\n",
        "# Definir la variable\n",
        "t, s = sp.symbols('t s')\n",
        "\n",
        "# Definir la función\n",
        "f = sp.sin(2 * t)\n",
        "\n",
        "# Resultado de L{sin(2t)}\n",
        "L_sin_2t = sp.laplace_transform(f, t, s)[0]  # Esto es 2 / (s^2 + 4)\n",
        "\n",
        "# Imprimir la ecuación y el resultado en formato LaTeX\n",
        "display(sp.Eq(sp.Function('L')(f, s), L_sin_2t))"
      ],
      "metadata": {
        "colab": {
          "base_uri": "https://localhost:8080/",
          "height": 52
        },
        "id": "59-dUXdv75mr",
        "outputId": "024df61a-99ba-401e-8048-9e57eab33ece"
      },
      "execution_count": 61,
      "outputs": [
        {
          "output_type": "display_data",
          "data": {
            "text/plain": [
              "                   2   \n",
              "L(sin(2⋅t), s) = ──────\n",
              "                  2    \n",
              "                 s  + 4"
            ],
            "text/latex": "$\\displaystyle L{\\left(\\sin{\\left(2 t \\right)},s \\right)} = \\frac{2}{s^{2} + 4}$"
          },
          "metadata": {}
        }
      ]
    },
    {
      "cell_type": "markdown",
      "source": [
        "Actividad 6"
      ],
      "metadata": {
        "id": "BsrXcgUV8sHX"
      }
    },
    {
      "cell_type": "code",
      "source": [
        "# Importar la biblioteca necesaria\n",
        "import sympy as sp\n",
        "from sympy import display\n",
        "\n",
        "# Definir la variable\n",
        "t, s = sp.symbols('t s')\n",
        "\n",
        "# Definir la función\n",
        "f1 = t + 5 * t\n",
        "\n",
        "# Resultado de L{t + 5t}\n",
        "L_f1 = sp.laplace_transform(f1, t, s)[0]  # Esto es 6/s^2\n",
        "\n",
        "# Reescribir el resultado en la forma deseada\n",
        "result_f1 = (1 / s) + (s / s**2)\n",
        "\n",
        "# Imprimir la ecuación y el resultado en formato LaTeX\n",
        "display(sp.Eq(sp.Function('F')(s), result_f1))"
      ],
      "metadata": {
        "colab": {
          "base_uri": "https://localhost:8080/",
          "height": 384
        },
        "id": "2HNtdNm-8t3L",
        "outputId": "f6f343d2-e2bc-488c-999f-cf6474b1a81e"
      },
      "execution_count": 64,
      "outputs": [
        {
          "output_type": "error",
          "ename": "ImportError",
          "evalue": "cannot import name 'display' from 'sympy' (/usr/local/lib/python3.12/dist-packages/sympy/__init__.py)",
          "traceback": [
            "\u001b[0;31m---------------------------------------------------------------------------\u001b[0m",
            "\u001b[0;31mImportError\u001b[0m                               Traceback (most recent call last)",
            "\u001b[0;32m/tmp/ipython-input-83268612.py\u001b[0m in \u001b[0;36m<cell line: 0>\u001b[0;34m()\u001b[0m\n\u001b[1;32m      1\u001b[0m \u001b[0;31m# Importar la biblioteca necesaria\u001b[0m\u001b[0;34m\u001b[0m\u001b[0;34m\u001b[0m\u001b[0m\n\u001b[1;32m      2\u001b[0m \u001b[0;32mimport\u001b[0m \u001b[0msympy\u001b[0m \u001b[0;32mas\u001b[0m \u001b[0msp\u001b[0m\u001b[0;34m\u001b[0m\u001b[0;34m\u001b[0m\u001b[0m\n\u001b[0;32m----> 3\u001b[0;31m \u001b[0;32mfrom\u001b[0m \u001b[0msympy\u001b[0m \u001b[0;32mimport\u001b[0m \u001b[0mdisplay\u001b[0m\u001b[0;34m\u001b[0m\u001b[0;34m\u001b[0m\u001b[0m\n\u001b[0m\u001b[1;32m      4\u001b[0m \u001b[0;34m\u001b[0m\u001b[0m\n\u001b[1;32m      5\u001b[0m \u001b[0;31m# Definir la variable\u001b[0m\u001b[0;34m\u001b[0m\u001b[0;34m\u001b[0m\u001b[0m\n",
            "\u001b[0;31mImportError\u001b[0m: cannot import name 'display' from 'sympy' (/usr/local/lib/python3.12/dist-packages/sympy/__init__.py)",
            "",
            "\u001b[0;31m---------------------------------------------------------------------------\u001b[0;32m\nNOTE: If your import is failing due to a missing package, you can\nmanually install dependencies using either !pip or !apt.\n\nTo view examples of installing some common dependencies, click the\n\"Open Examples\" button below.\n\u001b[0;31m---------------------------------------------------------------------------\u001b[0m\n"
          ],
          "errorDetails": {
            "actions": [
              {
                "action": "open_url",
                "actionText": "Open Examples",
                "url": "/notebooks/snippets/importing_libraries.ipynb"
              }
            ]
          }
        }
      ]
    }
  ],
  "metadata": {
    "kernelspec": {
      "display_name": "Python 3",
      "language": "python",
      "name": "python3"
    },
    "language_info": {
      "codemirror_mode": {
        "name": "ipython",
        "version": 3
      },
      "file_extension": ".py",
      "mimetype": "text/x-python",
      "name": "python",
      "nbconvert_exporter": "python",
      "pygments_lexer": "ipython3",
      "version": "3.7.1"
    },
    "colab": {
      "provenance": []
    }
  },
  "nbformat": 4,
  "nbformat_minor": 0
}